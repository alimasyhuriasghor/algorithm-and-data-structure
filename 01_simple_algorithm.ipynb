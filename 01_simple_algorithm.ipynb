{
 "cells": [
  {
   "cell_type": "markdown",
   "metadata": {},
   "source": [
    "# 1. A simple Algorithm to generate a Fibonacci numbers\n",
    "\n",
    "## What are Fibonacci numbers?\n",
    "The Fibonacci numbers are named after a 13th century Italian mathematician known as fibonacci.\n",
    "\n",
    "Fibonacci numbers are a number that is generated of the two previous numbers.\n",
    "\n",
    "## The fibonacci number algorithm\n",
    "To generate a fibonacci number, all we need to do is add the two previous fibonacci numbers.\n",
    "\n",
    "The algorithm can be implemented in 2 ways:\n",
    "- Using a loop, \n",
    "- Using a recursion.\n",
    "\n"
   ]
  },
  {
   "cell_type": "markdown",
   "metadata": {},
   "source": [
    "## Implementation using a loop"
   ]
  },
  {
   "cell_type": "code",
   "execution_count": 6,
   "metadata": {},
   "outputs": [],
   "source": [
    "def fib1(num: int) -> list:\n",
    "    result = []\n",
    "    a, b = 0, 1\n",
    "    while a < num:\n",
    "        result.append(a)\n",
    "        a, b = b, a + b\n",
    "    return result"
   ]
  },
  {
   "cell_type": "code",
   "execution_count": 7,
   "metadata": {},
   "outputs": [
    {
     "name": "stdout",
     "output_type": "stream",
     "text": [
      "[0, 1, 1, 2, 3, 5, 8]\n"
     ]
    }
   ],
   "source": [
    "result = fib1(10)\n",
    "print(result)"
   ]
  },
  {
   "cell_type": "markdown",
   "metadata": {},
   "source": [
    "## Finding the **n**th Fibonacci number using recursion\n",
    "To find the **n**th fibonacci number we can write the code based on the mathematic formula for Fibonacci number n: $$ F(n) = F(n - 1) + F(n - 2)$$\n",
    "\n",
    "This just means that for example the 10th Fibonacci number is the sum of the 9th, and 8th fibonacci numbers.\n",
    "\n",
    "> **Note**: This formula uses a 0 based index. This means that to generate the 20th fibonacci number, we must write $F(19)$."
   ]
  },
  {
   "cell_type": "code",
   "execution_count": 8,
   "metadata": {},
   "outputs": [],
   "source": [
    "def fib2(n: int) -> int:\n",
    "    if n <= 1:\n",
    "        return n\n",
    "    return fib2(n - 1) + fib2(n - 2)"
   ]
  },
  {
   "cell_type": "code",
   "execution_count": 11,
   "metadata": {},
   "outputs": [
    {
     "name": "stdout",
     "output_type": "stream",
     "text": [
      "34\n"
     ]
    }
   ],
   "source": [
    "result = fib2(9)\n",
    "print(result)"
   ]
  },
  {
   "cell_type": "markdown",
   "metadata": {},
   "source": [
    "## Summary\n",
    "Both Fibonacci Algorithms may generated the same result, but it differs to how the result is generated, and approaches. Let's walk through to the differences:\n",
    "\n",
    "- **First approach**: The first approach is using a while loop and stored the Fibonacci numbers into a local variable `result` as a list. The size of the list will increase along with the `num` parameter variable. Therefore, as the `num` parameter variable increases the size of the list will also increased, this will result a time complexity of $O(n)$ or linear time.\n",
    "\n",
    "- **Second approach** The second approach is using a recursion. A recursion is a technique where the function keeps continue calling until it reaches the base case. Therefore, as the `n` parameter variable increases the amount of memory that will be consumed will also depend on the `n` parameter variable, this will result a space complexity of $O(n)$ or linear time."
   ]
  }
 ],
 "metadata": {
  "kernelspec": {
   "display_name": "Python 3",
   "language": "python",
   "name": "python3"
  },
  "language_info": {
   "codemirror_mode": {
    "name": "ipython",
    "version": 3
   },
   "file_extension": ".py",
   "mimetype": "text/x-python",
   "name": "python",
   "nbconvert_exporter": "python",
   "pygments_lexer": "ipython3",
   "version": "3.12.6"
  }
 },
 "nbformat": 4,
 "nbformat_minor": 2
}
