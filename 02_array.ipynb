{
 "cells": [
  {
   "cell_type": "markdown",
   "metadata": {},
   "source": [
    "# 2. Array\n",
    "In computer programming, an array is a way for storing, and retrieving data in the same data type of elements. We can assume that an array as if it were a grid, with each cell storing one element of the data."
   ]
  },
  {
   "cell_type": "code",
   "execution_count": 1,
   "metadata": {},
   "outputs": [],
   "source": [
    "import numpy as np"
   ]
  },
  {
   "cell_type": "code",
   "execution_count": 2,
   "metadata": {},
   "outputs": [
    {
     "data": {
      "text/plain": [
       "array([1, 2, 3, 4, 5])"
      ]
     },
     "execution_count": 2,
     "metadata": {},
     "output_type": "execute_result"
    }
   ],
   "source": [
    "# Creating an array with 5 elements\n",
    "my_array = np.array([1, 2, 3, 4, 5])\n",
    "my_array"
   ]
  },
  {
   "cell_type": "markdown",
   "metadata": {},
   "source": [
    "An array has an index. An index is basically an integer to locate where the element in the array is reside. Every index should be starts from 0, if for instance the array has a length of five, then the index starts from 0, 1, 2, 3, and 4. All of these integers number are a valid indices."
   ]
  },
  {
   "cell_type": "code",
   "execution_count": 3,
   "metadata": {},
   "outputs": [
    {
     "name": "stdout",
     "output_type": "stream",
     "text": [
      "Retrieving the first element of my_array = 1\n",
      "Retrieving the last element of my_array = 5\n",
      "Retrieving the second element of my_array = 2\n",
      "Retrieving the third element of my_array = 3\n",
      "Retrieving the fourth element of my_array = 4\n"
     ]
    }
   ],
   "source": [
    "print(f\"Retrieving the first element of my_array = {my_array[0]}\")\n",
    "print(f\"Retrieving the last element of my_array = {my_array[-1]}\")\n",
    "print(f\"Retrieving the second element of my_array = {my_array[1]}\")\n",
    "print(f\"Retrieving the third element of my_array = {my_array[2]}\")\n",
    "print(f\"Retrieving the fourth element of my_array = {my_array[3]}\")"
   ]
  },
  {
   "cell_type": "markdown",
   "metadata": {},
   "source": [
    "## An Algorithm to find lowest element in an array\n",
    "Let's create an algorithm to find lowest element in an array using array data structure. Below are the algorithms of finding lowest element in an array:"
   ]
  },
  {
   "cell_type": "code",
   "execution_count": 4,
   "metadata": {},
   "outputs": [],
   "source": [
    "def find_min(array) -> int:\n",
    "    \"\"\"Find smallest element in an array.\"\"\"\n",
    "    min_val = array[0]\n",
    "    for num in array:\n",
    "        if num < min_val:\n",
    "            min_val = num\n",
    "    return min_val"
   ]
  },
  {
   "cell_type": "code",
   "execution_count": 5,
   "metadata": {},
   "outputs": [
    {
     "name": "stdout",
     "output_type": "stream",
     "text": [
      "0\n"
     ]
    }
   ],
   "source": [
    "my_array = np.array([5, 6, 8, 9, 10, 1, 0])\n",
    "result = find_min(my_array)\n",
    "print(result)"
   ]
  },
  {
   "cell_type": "markdown",
   "metadata": {},
   "source": [
    "## Algorithm code explainations\n",
    "- Create a function named `find_min()` that expects an argument to be an array.\n",
    "- Create a local variable named `min_val` to store the first index of the array.\n",
    "- Go through every element in an array one by one .\n",
    "- If the current value in the loop condition is lower than the `min_val` value, update the `min_val` to this value."
   ]
  },
  {
   "cell_type": "markdown",
   "metadata": {},
   "source": [
    "## Algorithm time complexity\n",
    "In the example above, the time complexity of `find_min()` function is $O(n)$. This is because the algorithm needs to visit the element one bye one. Therefore, the runtime of the algorithm will grow linearly when the size input of the algorithm grows."
   ]
  }
 ],
 "metadata": {
  "kernelspec": {
   "display_name": "Python 3",
   "language": "python",
   "name": "python3"
  },
  "language_info": {
   "codemirror_mode": {
    "name": "ipython",
    "version": 3
   },
   "file_extension": ".py",
   "mimetype": "text/x-python",
   "name": "python",
   "nbconvert_exporter": "python",
   "pygments_lexer": "ipython3",
   "version": "3.12.6"
  }
 },
 "nbformat": 4,
 "nbformat_minor": 2
}
