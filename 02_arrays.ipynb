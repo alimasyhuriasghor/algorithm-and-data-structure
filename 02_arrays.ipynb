{
 "cells": [
  {
   "cell_type": "markdown",
   "metadata": {},
   "source": [
    "# 2. Array\n",
    "\n",
    "## What is an array?\n",
    "In computer programming, an array is a way for storing and retreving data. We can assume that an array as if it were a grid in space, with each cell storing one element of the data. For instance, if each element of the data were a number, we might visualize a \"one-dimensional\" array like a list:"
   ]
  },
  {
   "cell_type": "code",
   "execution_count": 1,
   "metadata": {},
   "outputs": [],
   "source": [
    "import numpy as np"
   ]
  },
  {
   "cell_type": "code",
   "execution_count": 2,
   "metadata": {},
   "outputs": [
    {
     "data": {
      "text/plain": [
       "array([1, 2, 3, 4, 5])"
      ]
     },
     "execution_count": 2,
     "metadata": {},
     "output_type": "execute_result"
    }
   ],
   "source": [
    "array = np.array([1, 2, 3, 4, 5])\n",
    "array"
   ]
  },
  {
   "cell_type": "markdown",
   "metadata": {},
   "source": [
    "Every elements/items in an array has an index. Every index always starts with 0, this integer index is used to tell where our elements/items are located at. For instance:"
   ]
  },
  {
   "cell_type": "code",
   "execution_count": 4,
   "metadata": {},
   "outputs": [
    {
     "name": "stdout",
     "output_type": "stream",
     "text": [
      "First element value of the array = 1\n"
     ]
    }
   ],
   "source": [
    "# Retrieving the first element of the array\n",
    "print(f\"First element value of the array = {array[0]}\")"
   ]
  },
  {
   "cell_type": "code",
   "execution_count": 5,
   "metadata": {},
   "outputs": [
    {
     "name": "stdout",
     "output_type": "stream",
     "text": [
      "Last element value of the array = 5\n"
     ]
    }
   ],
   "source": [
    "# Retrieving the last element of the array (reversaly) \n",
    "print(f\"Last element value of the array = {array[-1]}\")"
   ]
  },
  {
   "cell_type": "markdown",
   "metadata": {},
   "source": [
    "## An Algorithm to find the lowest value in an Array\n",
    "How the algorithm works:\n",
    "- Check through the value in the array one by one.\n",
    "- Check if the current value is the lowest, and if it is, reassign the `min_val` local variable to the lowest value that is found in an array.\n",
    "- After searching through the entire array, the `min_val` local variable will be the lowest value of all values in the array."
   ]
  },
  {
   "cell_type": "code",
   "execution_count": 12,
   "metadata": {},
   "outputs": [],
   "source": [
    "def find_min(sequence):\n",
    "    \"\"\"Find smallest number in a sequence.\"\"\"\n",
    "    min_val = sequence[0]\n",
    "    for num in sequence:\n",
    "        if num < min_val:\n",
    "            lowest_index = num\n",
    "    return lowest_index"
   ]
  },
  {
   "cell_type": "code",
   "execution_count": 13,
   "metadata": {},
   "outputs": [],
   "source": [
    "def find_max(sequence):\n",
    "    \"\"\"Find biggest number in a sequnce\"\"\"\n",
    "    max_val = sequence[0]\n",
    "    for num in sequence:\n",
    "        if num > max_val:\n",
    "            max_val = num\n",
    "    return max_val"
   ]
  },
  {
   "cell_type": "code",
   "execution_count": 8,
   "metadata": {},
   "outputs": [
    {
     "data": {
      "text/plain": [
       "array([ 7, 12,  9,  4, 11])"
      ]
     },
     "execution_count": 8,
     "metadata": {},
     "output_type": "execute_result"
    }
   ],
   "source": [
    "my_array = np.array([7, 12, 9, 4, 11])\n",
    "my_array"
   ]
  },
  {
   "cell_type": "code",
   "execution_count": 14,
   "metadata": {},
   "outputs": [
    {
     "name": "stdout",
     "output_type": "stream",
     "text": [
      "4\n",
      "12\n"
     ]
    }
   ],
   "source": [
    "print(find_min(my_array))\n",
    "print(find_max(my_array))"
   ]
  },
  {
   "cell_type": "markdown",
   "metadata": {},
   "source": [
    "## Algorithm time complexity\n",
    "An algorithm time complexity is to measure the amount of time an algorithm takes to run, depending on the amount of data the algorithm is working on.\n",
    "\n",
    "In the example above, the time complexity of `find_min()`, and `find_max` functions are $O(n)$ or linear time. This is because the algorithm needs to search through the entire element/item of an array one by one. Therefore, if the size of an array is 100 elements, the `find_min()`, and `find_max()` functions needs to search from the begining of the element until the very last element of the array. This kind of algorithm will is considered $O(n)$ because as the input size of the algorithm grows, the `find_min()`, and `find_max()` algorithm functions grows linearly according to the size of the input."
   ]
  }
 ],
 "metadata": {
  "kernelspec": {
   "display_name": "Python 3",
   "language": "python",
   "name": "python3"
  },
  "language_info": {
   "codemirror_mode": {
    "name": "ipython",
    "version": 3
   },
   "file_extension": ".py",
   "mimetype": "text/x-python",
   "name": "python",
   "nbconvert_exporter": "python",
   "pygments_lexer": "ipython3",
   "version": "3.12.6"
  }
 },
 "nbformat": 4,
 "nbformat_minor": 2
}
