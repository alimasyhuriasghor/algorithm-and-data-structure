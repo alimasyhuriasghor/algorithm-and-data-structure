{
 "cells": [
  {
   "cell_type": "markdown",
   "id": "d4761614-b966-4352-b1b9-0b86f2aa8433",
   "metadata": {},
   "source": [
    "# 3. Sorting algorithm (Selection Sort)\n",
    "\n",
    "## Selection Sort [1/4]\n",
    "- Suppose you have a bunch of music on your computer.\n",
    "- For each artist, you have a play count.\n",
    "\n",
    "![Logo](https://drek4537l1klr.cloudfront.net/bhargava/Figures/032fig03.jpg)\n",
    "\n",
    "- You want to sort this list from most to least played, so that you can rank your favorite artists.\n",
    "- How can you do it?\n",
    "\n",
    "## Selection Sort [2/4]\n",
    "- One way is to through the list and find the most-played artist.\n",
    "- Add that artist to a new list.\n",
    "\n",
    "![Logo](https://drek4537l1klr.cloudfront.net/bhargava/Figures/033fig01_alt.jpg)\n",
    "\n",
    "## Selection Sort [3/4]\n",
    "- Do it again to find the next-most-played artist.\n",
    "\n",
    "![Logo](https://drek4537l1klr.cloudfront.net/bhargava/Figures/033fig02_alt.jpg)\n",
    "\n",
    "## Selection Sort [4/4]\n",
    "- Keep doing this, and you'll end up with a sorted list.\n",
    "\n",
    "![Logo](https://drek4537l1klr.cloudfront.net/bhargava/Figures/033fig03.jpg)\n",
    "\n",
    "## Selection Sort (run times) [1/3]\n",
    "- Remember that $O(n)$ time means you touch every element in a list once.\n",
    "- For example, running **Simple Search** over the list of artists means looking at each artist once.\n",
    "\n",
    "![Logo](https://drek4537l1klr.cloudfront.net/bhargava/Figures/034fig01.jpg)\n",
    "\n",
    "## Selection Sort (run times) [2/3]\n",
    "- To find the artist with the highest play count, you have to check each item in the list.\n",
    "- This takes $O(n)$ time, as you just saw.\n",
    "- So you have an operation that takes $O(n)$ time, and you have to do that $n$ times:\n",
    "\n",
    "![Logo](https://drek4537l1klr.cloudfront.net/bhargava/Figures/034fig01.jpg)\n",
    "\n",
    "## Selection Sort (run times) [3/3]\n",
    "- This takes $O(n \\times n)$ or $O(n^2)$ time.\n",
    "- Selection sort is a neat algorithm, but it's not very fast.\n",
    "- Quicksort is a faster sorting algorithm that takes $O(n log n)$ time. It's coming up in the next chapter!\n",
    "\n",
    "## Checking fewer elements each time\n",
    "- Maybe you're wondering: as you go through the operations, the number of elements that you have to check keeps decreasing.\n",
    "- So how can the runtime still $O(n^2)$?\n",
    "- That's a good question, and the answer has to do with constants in Big O Notation.\n",
    "- You check $n$ elements, then $n - 1$, $n - 2$, ..., $2$, $1$.\n",
    "- On average, you check a list that has $\\frac{1}{2} \\times n$ elements. The runtime is $O(n \\times \\frac{1}{2} \\times n)$.\n",
    "- But constants like $\\frac{1}{2}$ are ignored in Big O Notation, so you just write $O(n \\times n)$ or $O(n^2)$.\n",
    "\n"
   ]
  },
  {
   "cell_type": "markdown",
   "id": "e28900cd-fdf4-462f-baf8-95d1c541f1c7",
   "metadata": {},
   "source": [
    "## let's code for the selection sort algorithms!"
   ]
  },
  {
   "cell_type": "markdown",
   "id": "27eea549-41dc-48db-80bb-c677ca7c0860",
   "metadata": {},
   "source": [
    "### Find the smallest element in the list\n",
    "- Before we begin to sort the element in the list, we'll need to write an algorithm to find the smallest element in the list"
   ]
  },
  {
   "cell_type": "code",
   "execution_count": 2,
   "id": "7f1574fe-b2d8-4cb2-8639-7e9d85f7c284",
   "metadata": {},
   "outputs": [],
   "source": [
    "# An algorithm to find the smallest element in the list\n",
    "def find_smallest1(list):\n",
    "    \"\"\"Find the smallest element in the list.\"\"\"\n",
    "    smallest = list[0]\n",
    "    smallest_index = 0\n",
    "    for i in range(1,len(list)):\n",
    "        if list[i] < smallest:\n",
    "            smallest = list[i]\n",
    "            smallest_index = i\n",
    "    return smallest_index"
   ]
  },
  {
   "cell_type": "markdown",
   "id": "bc4bd3e9-7dab-4321-be56-60649e36a7b4",
   "metadata": {},
   "source": [
    "### Code explaiantions\n",
    "![Logo](https://drek4537l1klr.cloudfront.net/bhargava/Figures/035fig01_alt.jpg)"
   ]
  },
  {
   "cell_type": "markdown",
   "id": "cd6b2477-c64d-4dd8-b7ce-49f4c33afe40",
   "metadata": {},
   "source": [
    "### Sort the list\n",
    "- Now we can proceed to write the selection sort algorithm."
   ]
  },
  {
   "cell_type": "code",
   "execution_count": 4,
   "id": "6a6fb247-8735-4867-b81e-f5fb34385fbf",
   "metadata": {},
   "outputs": [],
   "source": [
    "# An algorithm to sort a list\n",
    "def selection_sort1(list):\n",
    "    \"\"\"Sorts a list.\"\"\"\n",
    "    new_list = []\n",
    "    for i in range(len(list)):\n",
    "        smallest = find_smallest1(list)\n",
    "        new_list.append(list.pop(smallest))\n",
    "    return new_list"
   ]
  },
  {
   "cell_type": "markdown",
   "id": "2f37b9bf-89f9-44aa-8990-3d9de4577765",
   "metadata": {},
   "source": [
    "### Code explainations\n",
    "![Logo](https://drek4537l1klr.cloudfront.net/bhargava/Figures/035fig02_alt.jpg)"
   ]
  },
  {
   "cell_type": "code",
   "execution_count": 6,
   "id": "598d23bb-e886-44b0-a107-0ad91d14a704",
   "metadata": {},
   "outputs": [
    {
     "data": {
      "text/plain": [
       "[2, 3, 5, 6, 10]"
      ]
     },
     "execution_count": 6,
     "metadata": {},
     "output_type": "execute_result"
    }
   ],
   "source": [
    "selection_sort1([5,3,6,2,10])"
   ]
  },
  {
   "cell_type": "markdown",
   "id": "f602b1e3-879e-4d0a-90ef-83044d9c9118",
   "metadata": {},
   "source": [
    "## An enhanced selection sort algorithm\n",
    "- We can enhance the selection sort algorithm by adding the ascending/descending order."
   ]
  },
  {
   "cell_type": "code",
   "execution_count": 12,
   "id": "924a1585-11ed-46bd-ac59-65e1272216fb",
   "metadata": {},
   "outputs": [],
   "source": [
    "# Enhance the selection sort algorithm\n",
    "def find_smallest2(list, ascending):\n",
    "    \"\"\"Find the smallest element in the list.\"\"\"\n",
    "    if ascending:      \n",
    "        smallest = list[0]\n",
    "        smallest_index = 0\n",
    "        for i in range(1,len(list)):\n",
    "            if list[i] < smallest:\n",
    "                smallest = list[i]\n",
    "                smallest_index = i\n",
    "        return smallest_index\n",
    "\n",
    "    else:\n",
    "        smallest = list[0]\n",
    "        smallest_index = 0\n",
    "        for i in range(1,len(list)):\n",
    "            if list[i] > smallest:\n",
    "                smallest = list[i]\n",
    "                smallest_index = i\n",
    "        return smallest_index\n",
    "\n",
    "def selection_sort2(list, *, ascending=True):\n",
    "    \"\"\"Sorts a list.\"\"\"\n",
    "    new_list = []\n",
    "    for i in range(len(list)):\n",
    "        smallest = find_smallest2(list,ascending)\n",
    "        new_list.append(list.pop(smallest))\n",
    "    return new_list"
   ]
  },
  {
   "cell_type": "code",
   "execution_count": 14,
   "id": "1cc66ea5-e199-4af9-b58b-3c0e3d048fe0",
   "metadata": {},
   "outputs": [
    {
     "data": {
      "text/plain": [
       "[10, 6, 5, 3, 2]"
      ]
     },
     "execution_count": 14,
     "metadata": {},
     "output_type": "execute_result"
    }
   ],
   "source": [
    "selection_sort2([5,3,6,2,10], ascending=False)"
   ]
  },
  {
   "cell_type": "markdown",
   "id": "d1e4c23f-62e3-4740-8afc-b9fa118c21a9",
   "metadata": {},
   "source": [
    "## Summary\n",
    "- Selection sort sorting algorithm runs $O(n^2)$ (quadratic time), because it needs to iterate over the list twice. The first iteration needs to iterate from the begining index until the end of the list index and so with the second iteration, it needs to iterate from the begining index until the end of the list index. Therefore, the run time is $O(n\\times n)$ or $O(n^2)$.\n",
    "- As the size of the input increases, the time required for the selection sort algorithm grows quadratically. For example, with a list of 5 elements, the algorithm performs $5\\times 5 = 25$ comparisons in the worst case.\n",
    "\n",
    "> **Note**: Note that not all nested loops are consideres has quadratic time complexity or $O(n^2)$. The reason selection sort algorithm runs  quadratic time complexity or $O(n^2)$ is because the first loop needs to iterate over the list from the begining index until the end of the index, and so on with the second iteration loop."
   ]
  }
 ],
 "metadata": {
  "kernelspec": {
   "display_name": "Python 3 (ipykernel)",
   "language": "python",
   "name": "python3"
  },
  "language_info": {
   "codemirror_mode": {
    "name": "ipython",
    "version": 3
   },
   "file_extension": ".py",
   "mimetype": "text/x-python",
   "name": "python",
   "nbconvert_exporter": "python",
   "pygments_lexer": "ipython3",
   "version": "3.11.7"
  }
 },
 "nbformat": 4,
 "nbformat_minor": 5
}
