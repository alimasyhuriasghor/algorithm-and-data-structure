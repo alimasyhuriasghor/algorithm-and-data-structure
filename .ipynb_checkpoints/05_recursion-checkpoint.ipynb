{
 "cells": [
  {
   "cell_type": "markdown",
   "id": "acef036e-00ec-4d17-8850-42503cdb1327",
   "metadata": {},
   "source": [
    "![Logo](https://images.manning.com/264/352/resize/book/3/0b325da-eb26-4e50-8a2a-46042c647083/Bhargava-Algorithms_hires.png)\n",
    "\n",
    "# 5. Recursion\n",
    "\n",
    "## Recursion [1/2]\n",
    "- Suppose you're digging through your grandma's attic and come across a mysterious locked suitcase.\n",
    "\n",
    "![Logo](https://drek4537l1klr.cloudfront.net/bhargava/Figures/038fig01.jpg)\n",
    "\n",
    "## Recursion [2/2]\n",
    "- Grandma tells you that the key for the suitcase is probably in this other box.\n",
    "\n",
    "![Logo](https://drek4537l1klr.cloudfront.net/bhargava/Figures/038fig02_alt.jpg)\n",
    "\n",
    "- This box contains more boxes, with more boxes inside those boxes.\n",
    "- The key is in the box somewhere. What's your algorithm to search for the key?\n",
    "- Think of an algorithm before you read on.\n",
    "\n",
    "## First approach\n",
    "Here's one approach.\n",
    "\n",
    "![Logo](https://drek4537l1klr.cloudfront.net/bhargava/Figures/039fig01.jpg)\n",
    "\n",
    "- Make a pile of boxes to look through.\n",
    "- Grab a box, and look through it.\n",
    "- If you find a box, add it to the pile to look through later.\n",
    "- If you find a key, you're done!\n",
    "- Repeat.\n",
    "\n",
    "## Second approach\n",
    "Here's an alternate approach\n",
    "\n",
    "![Logo](https://drek4537l1klr.cloudfront.net/bhargava/Figures/039fig02.jpg)\n",
    "\n",
    "- Look through the box.\n",
    "- If you finx a box, go to step 1.\n",
    "- If you found a key, you're done!\n",
    "\n",
    "## Loop Vs Recursion [1/3]\n",
    "- Which approach seems easier to you?\n",
    "- The first approach used **while loop**.\n",
    "\n",
    "## Loop Vs Recursion [2/3]\n",
    "- The second approach used **recursion**.\n",
    "- Recursion is where the function calls it self.\n",
    "\n",
    "## Loop Vs Recursion [3/3]\n",
    "- Both approaches accomplish the same thing, but the second approach is clearer to me (according to the author of the book).\n",
    "- Recursion is used when it makes the solution clearer.\n",
    "- There's no performance benefit using recursion; in fact, loops are sometimes better for performance.\n",
    "- Many important algorithm use recursion, so it's important to understand the concept.\n",
    "\n",
    "## Base Case and recursive case [1/3]\n",
    "- Because recursion function is where a function calls itself, sometimes there is a time where we write the function incorrectly that ends up in **stack overflow** (stack memory exhausted). For instance:"
   ]
  },
  {
   "cell_type": "code",
   "execution_count": 2,
   "id": "25eb325b-3ca5-4db6-af85-837d6b7eea3d",
   "metadata": {},
   "outputs": [],
   "source": [
    "# A failed factorial recursion function that ends up in stack overflow\n",
    "def factorial(num: int) -> int:\n",
    "    return num * factorial(num - 1)"
   ]
  },
  {
   "cell_type": "code",
   "execution_count": 4,
   "id": "5459d319-867a-45a7-895a-9fe618212296",
   "metadata": {},
   "outputs": [
    {
     "ename": "RecursionError",
     "evalue": "maximum recursion depth exceeded",
     "output_type": "error",
     "traceback": [
      "\u001b[1;31m---------------------------------------------------------------------------\u001b[0m",
      "\u001b[1;31mRecursionError\u001b[0m                            Traceback (most recent call last)",
      "Cell \u001b[1;32mIn[4], line 1\u001b[0m\n\u001b[1;32m----> 1\u001b[0m factorial(\u001b[38;5;241m5\u001b[39m)\n",
      "Cell \u001b[1;32mIn[2], line 3\u001b[0m, in \u001b[0;36mfactorial\u001b[1;34m(num)\u001b[0m\n\u001b[0;32m      2\u001b[0m \u001b[38;5;28;01mdef\u001b[39;00m \u001b[38;5;21mfactorial\u001b[39m(num: \u001b[38;5;28mint\u001b[39m) \u001b[38;5;241m-\u001b[39m\u001b[38;5;241m>\u001b[39m \u001b[38;5;28mint\u001b[39m:\n\u001b[1;32m----> 3\u001b[0m     \u001b[38;5;28;01mreturn\u001b[39;00m num \u001b[38;5;241m*\u001b[39m factorial(num \u001b[38;5;241m-\u001b[39m \u001b[38;5;241m1\u001b[39m)\n",
      "Cell \u001b[1;32mIn[2], line 3\u001b[0m, in \u001b[0;36mfactorial\u001b[1;34m(num)\u001b[0m\n\u001b[0;32m      2\u001b[0m \u001b[38;5;28;01mdef\u001b[39;00m \u001b[38;5;21mfactorial\u001b[39m(num: \u001b[38;5;28mint\u001b[39m) \u001b[38;5;241m-\u001b[39m\u001b[38;5;241m>\u001b[39m \u001b[38;5;28mint\u001b[39m:\n\u001b[1;32m----> 3\u001b[0m     \u001b[38;5;28;01mreturn\u001b[39;00m num \u001b[38;5;241m*\u001b[39m factorial(num \u001b[38;5;241m-\u001b[39m \u001b[38;5;241m1\u001b[39m)\n",
      "    \u001b[1;31m[... skipping similar frames: factorial at line 3 (2970 times)]\u001b[0m\n",
      "Cell \u001b[1;32mIn[2], line 3\u001b[0m, in \u001b[0;36mfactorial\u001b[1;34m(num)\u001b[0m\n\u001b[0;32m      2\u001b[0m \u001b[38;5;28;01mdef\u001b[39;00m \u001b[38;5;21mfactorial\u001b[39m(num: \u001b[38;5;28mint\u001b[39m) \u001b[38;5;241m-\u001b[39m\u001b[38;5;241m>\u001b[39m \u001b[38;5;28mint\u001b[39m:\n\u001b[1;32m----> 3\u001b[0m     \u001b[38;5;28;01mreturn\u001b[39;00m num \u001b[38;5;241m*\u001b[39m factorial(num \u001b[38;5;241m-\u001b[39m \u001b[38;5;241m1\u001b[39m)\n",
      "\u001b[1;31mRecursionError\u001b[0m: maximum recursion depth exceeded"
     ]
    }
   ],
   "source": [
    "factorial(5)"
   ]
  },
  {
   "cell_type": "markdown",
   "id": "3590d681-8b26-469b-8d19-69c3451efacc",
   "metadata": {},
   "source": [
    "## Base case and recursive case [2/3]\n",
    "- When you write a recursive function, you have to tell when to stop recursing.\n",
    "- That's why recursive function has two parts: the **base case**, and the **recursive case**.\n",
    "- The **recursive case** is where the function calls itself.\n",
    "- The **base case** is where we terminate the recursive case (function call)."
   ]
  },
  {
   "cell_type": "markdown",
   "id": "c6e79fcc-a43b-4aad-9161-2d906ce979dd",
   "metadata": {},
   "source": [
    "## Base case and recursive case [3/3]\n",
    "- Let's add a base case to the factorial recursive function."
   ]
  },
  {
   "cell_type": "code",
   "execution_count": null,
   "id": "30634a4d-cf2d-4eac-8d3f-d387f069d6dc",
   "metadata": {},
   "outputs": [],
   "source": [
    "# Now the factorial function works as expected\n",
    "def factorial(num: int) -> int:\n",
    "    \"\"\"A function to calculate factorial number.\"\"\"\n",
    "    if num == 1: # if argument integer num equals to 1, then terminate the function by return 1 to the function call\n",
    "        return 1\n",
    "    return num * factorial(num - 1) # if the condition (base case) hasn't been executed, keep repeatedly calls the function"
   ]
  },
  {
   "cell_type": "code",
   "execution_count": null,
   "id": "ce69b244-f698-423f-9d8e-771213a4318c",
   "metadata": {},
   "outputs": [],
   "source": [
    "factorial(5)"
   ]
  }
 ],
 "metadata": {
  "kernelspec": {
   "display_name": "Python 3 (ipykernel)",
   "language": "python",
   "name": "python3"
  },
  "language_info": {
   "codemirror_mode": {
    "name": "ipython",
    "version": 3
   },
   "file_extension": ".py",
   "mimetype": "text/x-python",
   "name": "python",
   "nbconvert_exporter": "python",
   "pygments_lexer": "ipython3",
   "version": "3.11.7"
  }
 },
 "nbformat": 4,
 "nbformat_minor": 5
}
