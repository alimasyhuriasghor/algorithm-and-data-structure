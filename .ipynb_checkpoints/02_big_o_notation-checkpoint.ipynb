{
 "cells": [
  {
   "cell_type": "markdown",
   "id": "f45c502d-5e65-4809-85c2-956842a6c365",
   "metadata": {},
   "source": [
    "# 2. Running Time & Big O Notation\n",
    "\n",
    "## Running Time [1/2]\n",
    "- Generally you want to choose the most efficient algorithm; wheter you're trying to optimize for time or space.\n",
    "- Back to [Binary Search](http://localhost:8888/notebooks/01_searching_algorithm.ipynb?). How much do you save by using it?\n",
    "- Well, the first approach was to check each number, one by one (**Simple Search**). If this is a list of 100 numbers, it takes up to 100 guesses. If it's a list of 4 billion numbers, it takes up to 4 billion guesses.\n",
    "- So the maximum number of guesses is the same as the size of the list. This is called **Linear Time**.\n",
    "- **Binary Search** is different. If the list is 100 items long, it takes at most 7 guesses. If the list is 4 billion items, it takes up to 32 guessess.\n",
    "- **Binary Search** runs **logarithmic time** (or log time, as the natives call it).\n",
    "\n",
    "## Running Time [2/2]\n",
    "Run times for search algorithms\n",
    "\n",
    "![Logo](https://drek4537l1klr.cloudfront.net/bhargava2/Figures/image_1-16.png)\n",
    "\n",
    "## Big O Notation\n",
    "Big O Notation is a special notation that tells you how fast an algorithm is.\n",
    "\n",
    "![Logo](https://drek4537l1klr.cloudfront.net/bhargava2/Figures/image_1-15.png)\n",
    "\n",
    "## Algorithm running times grow at different rates [1/6]\n",
    "- Bob is writing an algorithm for NASA.\n",
    "- His algorithm will kick in when a rocket is about to land on the Moon, and it will help calculate where to land.\n",
    "- Bob has only 10 seconds to figure out where to land\n",
    "\n",
    "![Logo](https://drek4537l1klr.cloudfront.net/bhargava2/Figures/1.png)\n",
    "\n",
    "## Algorithm running times grow at different rates [2/6]\n",
    "- Bob is trying to decide between **Simple Search** and **Binary Search**.\n",
    "- The algorithm needs to be fast and correct.\n",
    "- On one hand, **Binary Search** is faster.\n",
    "- On the other hand, **Simple Search** is easier to write, and there is a less chance of bugs being introduced. And Bob doesn't want bugs in the code to land a rocket!\n",
    "\n",
    "## Algorithm running times grow at different rates [3/6]\n",
    "- Let's assume it takse 1 milisecond to check one element.\n",
    "- To be extra careful, Bob decides to time both algorithms with a list of 100 elements.\n",
    "- With **Simple Search**, Bob has to check 100 elements, so the search takes 100ms to run.\n",
    "- On the other hand, he only has to check 7 elements with **Binary Search** ($log_{2} 100$ is roughly 7), so that search takes 7ms to run.\n",
    "\n",
    "![Logo](https://drek4537l1klr.cloudfront.net/bhargava2/Figures/image_1-18.png)\n",
    "\n",
    "## Algorithm running times grow at different rates [4/6]\n",
    "- But realisticly, the list wil have more like a billion elements.\n",
    "- Bob runs **Binary Search** with 1 billion elements, and it takes 30ms ($log_{2} 1,000,0000,000$ is roughly 30).\n",
    "- **Binary Search** is about 15ms times faster than **Simple Search**, because **Simple Search** took 100ms with 100 elements, and **Binary Search** took 7ms.\n",
    "- So **Simple Search** will take 30 x 15 = 450ms, right? Way under my threshold of 10 seconds.\n",
    "- Bob decides to go with **Simple Search**.\n",
    "- Is that the right choice?\n",
    "\n",
    "## Algorithm running times grow at different rates [5/6]\n",
    "- No! Turns out, Bob is wrong.\n",
    "- The run time for **Simple Search** with 1 billion elements will be 1 billion ms, which is 11 days!\n",
    "- The problem is, the run times for **Binary Search** and **Simple Search** don't grow at the same rate.\n",
    "\n",
    "![Logo](https://drek4537l1klr.cloudfront.net/bhargava2/Figures/image_1-19.png)\n",
    "\n",
    "## Algorithm running times grow at different rates [6/6]\n",
    "- As the number of items increases, **Binary Search** takes a litte more time to run, but **Simple Search** takes a lot more time to run.\n",
    "- So as the list of numbers gets bigger, **Binary Search** suddenly becomes more faster than **Simple Search**.\n",
    "- That's why it's not enough to know how long an algorithm takes to run, you need to know how the running time increases as the list size increases.\n",
    "- That's where Big O Notation comes in!\n",
    "\n",
    "## Big O Notation explained [1/2]\n",
    "- Big O Notation tells you how fast an algorithm is.\n",
    "- For example, suppose you have a list size of $n$.\n",
    "- **Simple Search** needs to check each element, so it will take $n$ operations. The run time in Big O Notation is O($n$),\n",
    "- Big O doesn't tell you the speed in seconds. Big O Notation lets you compare the number of operations. It tells you how fast the algorithm grows.\n",
    "\n",
    "## Big O Notation explained [2/2]\n",
    "- **Binary Search** needs $log n$ operations to check a list of size $n$.\n",
    "- What's the running time in Big O Notation? It's O($log n$).\n",
    "- In general, Big O Notation written as follows:\n",
    "\n",
    "![Logo](https://drek4537l1klr.cloudfront.net/bhargava2/Figures/image_1-21.png)\n",
    "\n",
    "- This tells you the number of operations an algorithm will make.\n",
    "- It's called Big O Notation, because you put a \"big O\" in front of the number operations."
   ]
  },
  {
   "cell_type": "code",
   "execution_count": 2,
   "id": "4bb5ceee-1187-4547-b5b4-07c623d85d0c",
   "metadata": {},
   "outputs": [],
   "source": [
    "# Simple Search algorithm code\n",
    "def linear_search(list,item):\n",
    "    for num in range(len(list)):\n",
    "        if list[num] == item:\n",
    "            return num\n",
    "    return None"
   ]
  },
  {
   "cell_type": "code",
   "execution_count": 4,
   "id": "1a83b49e-e4ca-4621-884c-d710483383f0",
   "metadata": {},
   "outputs": [
    {
     "name": "stdout",
     "output_type": "stream",
     "text": [
      "62.9 μs ± 701 ns per loop (mean ± std. dev. of 7 runs, 10,000 loops each)\n"
     ]
    }
   ],
   "source": [
    "%timeit first_result = linear_search(list(range(1000 + 1)),1000)"
   ]
  },
  {
   "cell_type": "markdown",
   "id": "9463e881-eaa4-4ccf-9535-24be13f23c73",
   "metadata": {},
   "source": [
    "## Output explainations [1/2]\n",
    "- $62.9 \\, \\mu\\text{s}$: On average, each execution of the **linear_search** function took 62.9 microseconds.\n",
    "- $\\pm 701 \\, \\text{ns}$: The standard deviation of the execution time is 701 seconds. This shows the variability in time taken per loop.\n",
    "- 7 runs: The timing result is based on 7 seperate runs of the **%timeit** magic command.\n",
    "- 10,000 loops: Within each run, the code was executed 10,000 times to get a reliable average timing.\n",
    "\n",
    "> **See Also**: For more in-depth about **%timeit** magic command and any kind of magic commands, [you can click here](https://jakevdp.github.io/PythonDataScienceHandbook/01.03-magic-commands.html).\n"
   ]
  },
  {
   "cell_type": "code",
   "execution_count": 7,
   "id": "131d12e0-56b9-4823-b198-abad3556f013",
   "metadata": {},
   "outputs": [],
   "source": [
    "# Binary Search algorithm code\n",
    "def binary_search(list,item):\n",
    "    low = 0\n",
    "    high = len(list) - 1\n",
    "\n",
    "    while low <= high:\n",
    "        mid = (low + high) // 2\n",
    "        guess = list[mid]\n",
    "        if guess == item:\n",
    "            return mid\n",
    "        if guess > item:\n",
    "            high = mid - 1\n",
    "        else:\n",
    "            low = mid + 1\n",
    "    return None"
   ]
  },
  {
   "cell_type": "code",
   "execution_count": 9,
   "id": "bc68161c-3da4-470c-9e75-835c7a77eea0",
   "metadata": {},
   "outputs": [
    {
     "name": "stdout",
     "output_type": "stream",
     "text": [
      "15.6 μs ± 69.4 ns per loop (mean ± std. dev. of 7 runs, 100,000 loops each)\n"
     ]
    }
   ],
   "source": [
    "%timeit second_result = binary_search(list(range(1000 + 1)),1000)"
   ]
  },
  {
   "cell_type": "markdown",
   "id": "6ddafd75-8374-4836-96b3-60bacb90d929",
   "metadata": {},
   "source": [
    "## Output explainations [2/2]\n",
    "- $15.6 \\, \\mu\\text{s}$: On average, each execution of the **binary_search** function took 15.6 microseconds.\n",
    "- $\\pm\\ 69.6 \\, \\text{ns}$: The standard deviation of the execution time is 69.6 seconds. Measures the varibility in the time taken per loop.\n",
    "- 7 runs: The timing result is based on 7 seperate runs of the **%timeit** magic commands.\n",
    "- 100,000 loops: Withing each run, the code was executed 100,000 times to get a reliable average timing."
   ]
  },
  {
   "cell_type": "markdown",
   "id": "a5ab5dfa-5767-4e74-bd2c-baa0ab9b52b2",
   "metadata": {},
   "source": [
    "## Visualzing different Big O run times (another simple cases study)\n",
    "- Here's a practical example that you can follow at home with a few pieces of paper and a pencil.\n",
    "- Suppose you have to draw a grid of 16 boxes.\n",
    "\n",
    "![Logo](https://drek4537l1klr.cloudfront.net/bhargava2/Figures/image_1-22.png)\n",
    "\n",
    "- What's a good algorithm to draw this grid?\n",
    "\n",
    "## Algorithm 1\n",
    "- One way to do it is to draw 16 boxes, one at a time.\n",
    "- Remember, Big O Notation counts the number of operations.\n",
    "- In this example, drawing one box is one operation. You have to draw 16 boxes.\n",
    "- How many operations it will take, drawing one box at a time?\n",
    "\n",
    "![Logo](https://drek4537l1klr.cloudfront.net/bhargava2/Figures/image_1-23.png)\n",
    "\n",
    "- 16 steps to draw 16 boxes. What's the running time for this algorithm?\n",
    "\n",
    "## Algorithm 2 [1/3]\n",
    "- Try this algorithm instead! Fold the paper.\n",
    "\n",
    "![Logo](https://drek4537l1klr.cloudfront.net/bhargava2/Figures/image_1-24.png)\n",
    "\n",
    "- In this example, folding the paper once is an operation.\n",
    "- You just made two boxes with that operation!\n",
    "\n",
    "## Algorithm 2 [2/3]\n",
    "- Folder the paper again, again, and again.\n",
    "\n",
    "![Logo](https://drek4537l1klr.cloudfront.net/bhargava2/Figures/image_1-25.png)\n",
    "\n",
    "- Unfold it after four fold, and you'll have a beautiful grid!\n",
    "\n",
    "## Algorithm 2 [3/3]\n",
    "![Logo](https://drek4537l1klr.cloudfront.net/bhargava2/Figures/image_1-26.png)\n",
    "\n",
    "- Every fold doubles the number of boxes. You made 16 boxes with 4 operations!\n",
    "- You can \"draw\" twice as many boxes with every fold, so you can draw 16 boxes in 4 steps.\n",
    "- What's the running time for this algorithm?\n",
    "- Come up with running times for both algorithms before moving on.\n",
    "- Answers: Algorithm 1 takes O($n$) time, and algorithm 2 takes O($log n$) time."
   ]
  }
 ],
 "metadata": {
  "kernelspec": {
   "display_name": "Python 3 (ipykernel)",
   "language": "python",
   "name": "python3"
  },
  "language_info": {
   "codemirror_mode": {
    "name": "ipython",
    "version": 3
   },
   "file_extension": ".py",
   "mimetype": "text/x-python",
   "name": "python",
   "nbconvert_exporter": "python",
   "pygments_lexer": "ipython3",
   "version": "3.11.7"
  }
 },
 "nbformat": 4,
 "nbformat_minor": 5
}
