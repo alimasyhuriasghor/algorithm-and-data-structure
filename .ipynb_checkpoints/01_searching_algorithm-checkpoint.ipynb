{
 "cells": [
  {
   "cell_type": "markdown",
   "metadata": {},
   "source": [
    "# 1. Searching Algorithm Simple Search & Binary Search\n",
    "\n",
    "## Introduction\n",
    "- An algorithm is a set of instructions for accomplishing a task.\n",
    "- Algorithm chosen in this book (for inclusion), because they're fast, or they solve interesting problems, or maybe both.\n",
    "- The good news is, an implementation of every algorithm in this book is probably available in your favorite languages, so you don't have to write each algorithm yourself!\n",
    "- But, those implementations are useless if you don't understand the trade-offs (the flaws and advantages of each algorithms).\n",
    "- In this book, you'll learn to compare trade-offs between different algorithms.\n",
    "\n",
    "## Binary Search [1/2]\n",
    "- Suppose you're searching for a word in a dictionary and it starts with **K**.\n",
    "- You could start at the beginning and keep flipping the pages until you get to the **K**s.\n",
    "- But you're more likely going to start at a page in the middle, because you know the **K**s are going to be near the middle of the dictionary.\n",
    "\n",
    "![Logo](https://drek4537l1klr.cloudfront.net/bhargava/Figures/003fig01.jpg)\n",
    "\n",
    "## Binary Search [2/2]\n",
    "- This is a search problem.\n",
    "- Binary search is an algorithm; it's input is a **sorted** list of elements.\n",
    "- If an element you're looking for is in the list, binary search returns the position of where it's located. Otherwise, it returns **null**.\n",
    "\n",
    "![Logo](https://drek4537l1klr.cloudfront.net/bhargava/Figures/004fig01.jpg)\n",
    "\n",
    "## A Simpler Search (Problem) Example\n",
    "- I'm thingking of a number between 1 and 100.\n",
    "- You have to try to guess my number in the fewest tries possible.\n",
    "- With every guess, I'll tell you if your guess is too low, too high, or correct.\n",
    "\n",
    "## Simple Search Way\n",
    "- Suppose you start guessing like this: 1, 2, 3, 4, ...\n",
    "- Here's how it would go.\n",
    "\n",
    "![Logo](https://drek4537l1klr.cloudfront.net/bhargava/Figures/004fig03.jpg)\n",
    "![Logo](https://drek4537l1klr.cloudfront.net/bhargava/Figures/005fig01.jpg)\n",
    "\n",
    "- This is a simple search, because we'll need to find the number step-by-step.\n",
    "- With each guess, you're eliminating only one number.\n",
    "- If the number is 99, it could take up to 99 guesses.\n",
    "\n",
    "## A Better Way To Search (Binary Search)\n",
    "- Here's a better technique.\n",
    "- Starts with 50 (the middle number).\n",
    "\n",
    "![Logo](https://drek4537l1klr.cloudfront.net/bhargava/Figures/005fig02_alt.jpg)\n",
    "\n",
    "- Too low, but you've just eliminated half the numbers!\n",
    "- Now you know that 1-50 are too low. Next guess: 75.\n",
    "\n",
    "![Logo](https://drek4537l1klr.cloudfront.net/bhargava/Figures/005fig03.jpg)\n",
    "\n",
    "- Too high, but again you cut down half the remaining numbers!\n",
    "- With **Binary Search**, you guess from the middle number and eliminate half the remaining numbers everytime.\n",
    "- Next is 63 (halfway between 50 and 75).\n",
    "\n",
    "![Logo](https://drek4537l1klr.cloudfront.net/bhargava/Figures/006fig01.jpg)\n",
    "\n",
    "## Binary Search Performance Explained [1/3]\n",
    "- This is **Binary Search**. You just learned your first algorithm.\n",
    "- Here's how many numbers you can eliminate every time.\n",
    "\n",
    "![Logo](https://drek4537l1klr.cloudfront.net/bhargava/Figures/006fig02.jpg)\n",
    "\n",
    "- Eliminate half the numbers every time with **Binary Search**.\n",
    "- Whatever number that I'm thingking, you can guess in a maximum seven guesses, because you eliminate so many numbers with every guess!\n",
    "\n",
    "## Binary Search Performance Explained [2/3]\n",
    "- Suppose you're looking for a work in a dictionary. The dictionary has 240,000 words.\n",
    "- In the worst case, how many steps do you think each search will take?\n",
    "\n",
    "![Logo](https://drek4537l1klr.cloudfront.net/bhargava/Figures/006fig03.jpg)\n",
    "\n",
    "## Binary Search Performance Explained [3/3]\n",
    "- Simple search could take up to 240,000 steps if the word that you're looking for is the very last one in the book.\n",
    "- With each step of **Binary Search**, you cut the number of words in half until you're left with only one word.\n",
    "\n",
    "![Logo](https://drek4537l1klr.cloudfront.net/bhargava/Figures/006fig04.jpg)\n",
    "\n",
    "- So **Binary Search** will take up to 18 steps. What a big difference!\n",
    "- In general, for any list of $n$ elements, **Binary Search** will take up to $log_{2} n$ steps, whereas **Simple Search** will take up to $n$ steps.\n",
    "\n",
    "## Logarithms [1/2]\n",
    " - Logs are the flip of exponents.\n",
    "\n",
    "![logo](https://drek4537l1klr.cloudfront.net/bhargava/Figures/007fig01.jpg)\n",
    "\n",
    "- In this book, when I talk about running time in **Big O Notation** (explained a little later), $log$ always means $log_{2}$.\n",
    "\n",
    "## Logarithms [2/2]\n",
    "- When you search for an element using **Simple Search** algorithm, in the worst case you might have to look for every single elements.\n",
    "- So for a list of 8 numbers, you'd have to check 8 numbers at most.\n",
    "- For binary search, you have to check $log_{2} n$ elements in the worst case.\n",
    "- For a list of 8 elements, $log_{2} 8 == 3$, because $2^3 == 8$. So for a list of 8 numbers, you'd have to check 3 numbers at most.\n",
    "- For a list of 1,024 elements, $log_{2} 1024 = 10$, because $2^{10} = 1024$. So for a list of 1,024 elements, you'd have to check 10 numbers at most.\n",
    "\n",
    "## Notes\n",
    "- I'll talk about log time a lot in this book, so you should understand the concept of logarithms. If you don't, [khanacademy.org](https://www.khanacademy.org/math/algebra2/x2ec2f6f830c9fb89:logs) has a nice video that makes it clear.\n",
    "- **Binary Search** only works if the list is in **sorted** order. For example, the names in a phone book are sorted in alphabetical order, so you can use **Binary Search** to look for a name.)"
   ]
  },
  {
   "cell_type": "markdown",
   "metadata": {},
   "source": [
    "# Let's code for the searching algorithms!"
   ]
  },
  {
   "cell_type": "markdown",
   "metadata": {},
   "source": [
    "# Binary Search using Python programming language\n",
    "- Here's the full code explainations:\n",
    "\n",
    "![Logo](https://drek4537l1klr.cloudfront.net/bhargava/Figures/009fig02_alt.jpg)"
   ]
  },
  {
   "cell_type": "code",
   "execution_count": 2,
   "metadata": {},
   "outputs": [],
   "source": [
    "# The Python code for binary search\n",
    "def binary_search(list, item):\n",
    "    \"\"\"Find an element within a list.\"\"\"\n",
    "    low = 0\n",
    "    high = len(list) - 1\n",
    "\n",
    "    while low <= high:\n",
    "        mid = (low + high) // 2\n",
    "        guess = list[mid]\n",
    "        if guess == item:\n",
    "            return mid\n",
    "        if guess > item:\n",
    "            high = mid - 1\n",
    "        else:\n",
    "            low = mid + 1\n",
    "    return None"
   ]
  },
  {
   "cell_type": "code",
   "execution_count": 10,
   "metadata": {},
   "outputs": [
    {
     "name": "stdout",
     "output_type": "stream",
     "text": [
      "0\n",
      "None\n"
     ]
    }
   ],
   "source": [
    "my_list = [1,3,5,7,9]\n",
    "\n",
    "print(binary_search(my_list,1))\n",
    "print(binary_search(my_list,10))"
   ]
  },
  {
   "cell_type": "code",
   "execution_count": 14,
   "metadata": {},
   "outputs": [],
   "source": [
    "# The Python code for simple search\n",
    "def simple_search(list, item):\n",
    "    \"\"\"Find an element within a list.\"\"\"\n",
    "    for num in range(len(list)):\n",
    "        if list[num] == item:\n",
    "            return num\n",
    "    return None"
   ]
  },
  {
   "cell_type": "code",
   "execution_count": 12,
   "metadata": {},
   "outputs": [
    {
     "name": "stdout",
     "output_type": "stream",
     "text": [
      "1\n",
      "None\n"
     ]
    }
   ],
   "source": [
    "print(simple_search(my_list,3))\n",
    "print(simple_search(my_list,10))"
   ]
  },
  {
   "cell_type": "markdown",
   "metadata": {},
   "source": [
    "# Summary\n",
    "**Binary Search**\n",
    "- Binary search takes O($log_{2} n)$ runtime, where $n$ is the number of operations.\n",
    "- Binary search keeps repeatedly divide the number in half until the element is found.\n",
    "- Hard to implement, but worth the outcome if the list has a huge size of elements.\n",
    "\n",
    "**Simple Search**\n",
    "- Simple search takes O($n$) runtime, where $n$ is the number of operations.\n",
    "- Simple search can grow linearly depending on the input size\n",
    "- Easy to implement, but not worth the outcome if the list has a huge size of elements."
   ]
  }
 ],
 "metadata": {
  "kernelspec": {
   "display_name": "Python 3 (ipykernel)",
   "language": "python",
   "name": "python3"
  },
  "language_info": {
   "codemirror_mode": {
    "name": "ipython",
    "version": 3
   },
   "file_extension": ".py",
   "mimetype": "text/x-python",
   "name": "python",
   "nbconvert_exporter": "python",
   "pygments_lexer": "ipython3",
   "version": "3.12.4"
  }
 },
 "nbformat": 4,
 "nbformat_minor": 4
}
