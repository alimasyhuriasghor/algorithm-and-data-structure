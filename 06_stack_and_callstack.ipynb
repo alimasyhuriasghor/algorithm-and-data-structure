{
 "cells": [
  {
   "cell_type": "markdown",
   "id": "b0ddc903-36ca-49fe-856a-a69c927cbabc",
   "metadata": {},
   "source": [
    "# 6. Stack & Call Stack\n",
    "\n",
    "## The stack [1/3]\n",
    "- The **call stack** is an important concept in general programming, and it's also important to understand recursion.\n",
    "- Suppose you're throwing a barbecue.\n",
    "\n",
    "![Picture](https://drek4537l1klr.cloudfront.net/bhargava/Figures/042fig01.jpg)\n",
    "\n",
    "- You keep a todo list for the barbecue, in the form of a stack of sticky notes.\n",
    "\n",
    "![Picture](https://drek4537l1klr.cloudfront.net/bhargava/Figures/042fig02.jpg)\n",
    "\n",
    "## The stack [2/3]\n",
    "- The stack of sticky notes is simple.\n",
    "- When you insert an item, it gets added to the top of the list.\n",
    "- When you read an item, you only read the top most item, and it's taken off the list.\n",
    "- So your todo list has only two actions: push (insert), and pop (remove the topmost item and read it).\n",
    "\n",
    "![Picture](https://drek4537l1klr.cloudfront.net/bhargava/Figures/042fig03.jpg)\n",
    "\n",
    "## The stack [3/3]\n",
    "- Let's see the todo list in action.\n",
    "- This data structure is called a **stack**.\n",
    "- The stack is a simple data structure. We've been using a stack this whole time without realizing it!\n",
    "\n",
    "![Picture](https://drek4537l1klr.cloudfront.net/bhargava/Figures/042fig04_alt.jpg)\n",
    "\n",
    "## The call stack [1/2]\n",
    "- Your computer uses a stack internally called the **call stack**.\n",
    "- Let's see it in action. Here's a simple function:"
   ]
  },
  {
   "cell_type": "code",
   "execution_count": 1,
   "id": "6d828553-2e40-4fc8-a56d-e13a07ec37f4",
   "metadata": {},
   "outputs": [],
   "source": [
    "def greet(name: str, /) -> None:\n",
    "    \"\"\"Greet a person's name.\"\"\"\n",
    "    print(f\"Hello {name}!\")\n",
    "    greet2(name)\n",
    "    print(\"Getting ready to say bye...\")\n",
    "    bye(name)"
   ]
  },
  {
   "cell_type": "markdown",
   "id": "64ad6faa-42f3-4198-9bd4-f12d30a91da4",
   "metadata": {},
   "source": [
    "- This function `greet()` greets you and then calls two other functions. Here are those functions:\n",
    "\n",
    "> **Note**: Note that `print()` is also a function, but in this case we're just pretend to ignore it and stick to our own functions."
   ]
  },
  {
   "cell_type": "code",
   "execution_count": 3,
   "id": "5dc0c5c8-b6e6-4af7-99c3-cb8b0c1f3fb8",
   "metadata": {},
   "outputs": [],
   "source": [
    "def greet2(name: str, /) -> None:\n",
    "    \"\"\"Greet a person's name.\"\"\"\n",
    "    print(f\"How are you {name}?\")\n",
    "\n",
    "def bye(name: str, /) -> None:\n",
    "    \"\"\"Say bye to the person's name.\"\"\"\n",
    "    print(\"Ok, bye!\")"
   ]
  },
  {
   "cell_type": "code",
   "execution_count": 5,
   "id": "bff12615-a707-4f3a-9677-62e01c0c164a",
   "metadata": {},
   "outputs": [
    {
     "name": "stdout",
     "output_type": "stream",
     "text": [
      "Hello Maggie!\n",
      "How are you Maggie?\n",
      "Getting ready to say bye...\n",
      "Ok, bye!\n"
     ]
    }
   ],
   "source": [
    "greet(\"Maggie\")"
   ]
  },
  {
   "cell_type": "markdown",
   "id": "59d8a292-17b9-4716-89e5-7cf42f5d1652",
   "metadata": {},
   "source": [
    "## The call stack [2/2]\n",
    "- Let's walk through what happens when you call a function.\n",
    "- Suppose you call `greet(\"Maggie\")`.\n",
    "- First, your computer allocates box of memory for that function call.\n",
    "- Now let's use the memory. The variable name is set to \"Maggie\". That needs to be saved in memory.\n",
    "\n",
    "![Picture](https://drek4537l1klr.cloudfront.net/bhargava/Figures/043fig01.jpg)\n",
    "\n",
    "- Everytime you make a function call, your computer saves the values for all the variables for that call in memory like this.\n",
    "- Next you print **Hello, Maggie!** Then you call `greet2(name)`. Again, your computer allocates a box of memory for this function call.\n",
    "\n",
    "![Picture](https://drek4537l1klr.cloudfront.net/bhargava/Figures/044fig01.jpg)\n",
    "\n",
    "- Your computer is using stack for these boxes.\n",
    "- The second box is added on top of the first one. You print **How are you, Maggie?**\n",
    "- Then you return from the function call. When this happens, the box on top of the call stack gets popped off.\n",
    "\n",
    "![Picture](https://drek4537l1klr.cloudfront.net/bhargava/Figures/044fig02.jpg)\n",
    "\n",
    "- Now, the topmost box on the stack is for the **greet** function, which means you returned back to the **greet** function.\n",
    "- When you called the **greet2** function, the **greet** function was partially completed.\n",
    "- When you call a function from another function, the calling function is paused in a partially completed state.\n",
    "- All the values of the variables for that function are still stored in memory.\n",
    "- Now that you're coden with the **greet2** function, you're back to the **greet** function, and you pick up where you left off.\n",
    "- First you print **Getting ready to say bye...**\n",
    "- You call the **bye** function.\n",
    "\n",
    "![Picture](https://drek4537l1klr.cloudfront.net/bhargava/Figures/044fig03.jpg)\n",
    "\n",
    "- A box for that function is added to the top of the call stack. Then you print **ok, bye!** And return from the function call.\n",
    "\n",
    "![Picture](https://drek4537l1klr.cloudfront.net/bhargava/Figures/045fig01.jpg)\n",
    "\n",
    "- And you're back to the **greet** function.\n",
    "- There's nothing else to be done, so you return from the **greet** function too.\n",
    "- This stack used to save the variables for multiple functions is called the **call stack**."
   ]
  },
  {
   "cell_type": "markdown",
   "id": "3c50db81-8fbf-4680-bd25-cbe7dbd7ec0f",
   "metadata": {},
   "source": [
    "## The call stack with recursion [1/2]\n",
    "- Recursive functions use the call stack too!\n",
    "- Let's look at this in action with the factorial function.\n",
    "- `factorial(5)` is written as 5!, and it's defined like this: $5! = 5 \\times 4 \\times 3 \\times 2 \\times 1$\n",
    "- Similary, `factorial(3)` is $3 \\times 2 \\times 1$.\n",
    "- Here's a recursive function to calculate the factorial number:"
   ]
  },
  {
   "cell_type": "code",
   "execution_count": 8,
   "id": "645c6c37-baed-4637-9717-d724119ecea4",
   "metadata": {},
   "outputs": [],
   "source": [
    "def fact(x: int, /) -> int:\n",
    "    \"\"\"Calculate factorial number.\"\"\"\n",
    "    if x == 1:\n",
    "        return 1\n",
    "    return x * fact(x - 1)"
   ]
  },
  {
   "cell_type": "code",
   "execution_count": 10,
   "id": "67d68f6d-cbd0-4e0a-8a3f-4d73aa77d24d",
   "metadata": {},
   "outputs": [
    {
     "data": {
      "text/plain": [
       "6"
      ]
     },
     "execution_count": 10,
     "metadata": {},
     "output_type": "execute_result"
    }
   ],
   "source": [
    "fact(3)"
   ]
  },
  {
   "cell_type": "markdown",
   "id": "9f58508e-b58c-4c61-8a90-24b44afc297a",
   "metadata": {},
   "source": [
    "## The call stack with recursion [2/2]\n",
    "- Now you call `fact(3)`.\n",
    "- Let's step through this call line by line and see how the stack changes.\n",
    "- Remember, the top most box in the stack tells you what call to factorial you're currently on.\n",
    "\n",
    "![Picture](https://drek4537l1klr.cloudfront.net/bhargava/Figures/046fig01_alt.jpg)\n",
    "![Picture](https://drek4537l1klr.cloudfront.net/bhargava/Figures/047fig01_alt.jpg)\n",
    "\n",
    "- Notice that each call to **fact** has it's own copy of x.\n",
    "- You can't access a different function's copy of x."
   ]
  }
 ],
 "metadata": {
  "kernelspec": {
   "display_name": "Python 3 (ipykernel)",
   "language": "python",
   "name": "python3"
  },
  "language_info": {
   "codemirror_mode": {
    "name": "ipython",
    "version": 3
   },
   "file_extension": ".py",
   "mimetype": "text/x-python",
   "name": "python",
   "nbconvert_exporter": "python",
   "pygments_lexer": "ipython3",
   "version": "3.12.4"
  }
 },
 "nbformat": 4,
 "nbformat_minor": 5
}
